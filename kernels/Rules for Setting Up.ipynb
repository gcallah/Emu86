{
 "cells": [
  {
   "cell_type": "markdown",
   "metadata": {},
   "source": [
    "# Rules for Setting Up a Notebook in Assembly Language!\n",
    "\n",
    "\n",
    "## Cannot have more than two data segments\n",
    "In a cell, there should only be one data segment where you initialize your variables.\n"
   ]
  },
  {
   "cell_type": "code",
   "execution_count": 1,
   "metadata": {},
   "outputs": [
    {
     "name": "error_msg",
     "output_type": "stream",
     "text": [
      "Code has more than one data segment."
     ]
    }
   ],
   "source": [
    ".data\n",
    "    chocolate DW 18\n",
    "    vanilla DW 20\n",
    "    \n",
    ".text\n",
    "    mov eax, [chocolate]\n",
    "\n",
    ".data\n",
    "    strawberry 5"
   ]
  },
  {
   "cell_type": "markdown",
   "metadata": {},
   "source": [
    "## Data segment must come first!\n",
    "\n",
    "Because the text segment contains the assembly code, data segment must come first if you plan to initialize variables! That way, you can use your variables in the text segment."
   ]
  },
  {
   "cell_type": "code",
   "execution_count": 2,
   "metadata": {},
   "outputs": [
    {
     "name": "error_msg",
     "output_type": "stream",
     "text": [
      "Data segment is after text segment."
     ]
    }
   ],
   "source": [
    ".text\n",
    "    mov eax, 15\n",
    "    mov ebx, 24\n",
    "    add eax, ebx\n",
    "    \n",
    ".data\n",
    "    red 100\n",
    "    green 125\n",
    "    blue 222"
   ]
  },
  {
   "cell_type": "code",
   "execution_count": null,
   "metadata": {},
   "outputs": [],
   "source": []
  }
 ],
 "metadata": {
  "kernelspec": {
   "display_name": "Intel",
   "language": "",
   "name": "intel"
  },
  "language_info": {
   "file_extension": "x86",
   "mimetype": "intel",
   "name": "intel"
  }
 },
 "nbformat": 4,
 "nbformat_minor": 2
}
