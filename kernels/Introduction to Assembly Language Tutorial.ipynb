{
 "cells": [
  {
   "cell_type": "markdown",
   "metadata": {},
   "source": [
    "# Introduction to Assembly Language\n",
    "\n",
    "Let's learn some assembly language! We are going to learn how some instructions work. \n",
    "\n",
    "Here are the different types of instructions in assembly:\n",
    "* Data Movement\n",
    "* Arithmetic\n",
    "* Control flow\n",
    "\n",
    "Let's start with data movement instructions!"
   ]
  },
  {
   "cell_type": "markdown",
   "metadata": {},
   "source": [
    "## Storing values into a register\n",
    "\n",
    "**Registers** are the storage locations at the heart of the central processing unit. They can store constants, memory, and values from another register. \n",
    "\n",
    "The instruction *mov* handles data movement in various ways listed below.\n",
    "* mov reg, constant\n",
    "* mov reg, reg\n",
    "* mov reg, [mem]\n",
    "* mov [mem], constant\n",
    "* mov [mem], reg\n",
    "\n",
    "The value of the second operand is being stored into the first operand. \n",
    "\n",
    "In the cell below, the constant 2 is being stored in register EDX and the constant 16 is being stored in register EBX."
   ]
  },
  {
   "cell_type": "code",
   "execution_count": 1,
   "metadata": {},
   "outputs": [
    {
     "data": {
      "text/html": [
       "Changes: <br /><table><tr><th>Register</th><th>Register Value</th><th>Memory Location</th><th>Memory Value</th></tr><tr><td>EBX</td><td>16</td><td></td><td></td></tr><tr><td>EDX</td><td>2</td><td></td><td></td></tr></table>"
      ]
     },
     "metadata": {},
     "output_type": "display_data"
    }
   ],
   "source": [
    "mov edx, 2\n",
    "mov ebx, 16"
   ]
  },
  {
   "cell_type": "markdown",
   "metadata": {},
   "source": [
    "## Arithmetic Instructions\n",
    "\n",
    "In assembly, we have a set of arithmetic instructions that require one or two operands.\n",
    "\n",
    "Instructions that require one operand:\n",
    "* dec reg\n",
    "    * Decrements the value in a register by 1 \n",
    "\n",
    "* inc reg\n",
    "    * Increments the value in a register by 1 \n",
    "* neg reg\n",
    "    * Negates the value in a register\n",
    "* idiv reg\n",
    "    * Divides the value in EDX:EAX by the specified operand value\n",
    "    * Quotient is stored in EAX\n",
    "    * Remainder is stored in EDX\n",
    "\n",
    "Some intructions that required two operands:\n",
    "* add reg, reg\n",
    "* sub reg, constant\n",
    "* imul reg, reg\n",
    "The result of the arithmetic operation is overwrites the value of the first operand.\n",
    "\n",
    "In the example below, EAX holds the value 10 and EBX holds the value 3. The product of EAX and EBX is stored into EAX. "
   ]
  },
  {
   "cell_type": "code",
   "execution_count": 2,
   "metadata": {},
   "outputs": [
    {
     "data": {
      "text/html": [
       "Changes: <br /><table><tr><th>Register</th><th>Register Value</th><th>Memory Location</th><th>Memory Value</th></tr><tr><td>EAX</td><td>30</td><td></td><td></td></tr><tr><td>EBX</td><td>3</td><td></td><td></td></tr><tr><td>EDX</td><td>2</td><td></td><td></td></tr></table>"
      ]
     },
     "metadata": {},
     "output_type": "display_data"
    }
   ],
   "source": [
    "mov eax, 10\n",
    "mov ebx, 3\n",
    "imul eax, ebx"
   ]
  },
  {
   "cell_type": "markdown",
   "metadata": {},
   "source": [
    "## Creating Functions \n",
    "\n",
    "To create a function in assembly, state a function name and write a sequence of assembly code. The function name represents as a locator to jump back to.\n",
    "\n",
    "Below, the *sum* function is implemented. The *sum* function stores the sum of EAX and EBX in ECX."
   ]
  },
  {
   "cell_type": "code",
   "execution_count": 3,
   "metadata": {},
   "outputs": [
    {
     "data": {
      "text/html": [
       "Changes: <br /><table><tr><th>Register</th><th>Register Value</th><th>Memory Location</th><th>Memory Value</th></tr><tr><td>EAX</td><td>10</td><td></td><td></td></tr><tr><td>EBX</td><td>20</td><td></td><td></td></tr><tr><td>ECX</td><td>30</td><td></td><td></td></tr><tr><td>EDX</td><td>2</td><td></td><td></td></tr></table>"
      ]
     },
     "metadata": {},
     "output_type": "display_data"
    }
   ],
   "source": [
    "mov eax, 10\n",
    "mov ebx, 20\n",
    "\n",
    "sum: mov ecx, eax\n",
    "     add ecx, ebx"
   ]
  },
  {
   "cell_type": "markdown",
   "metadata": {},
   "source": [
    "## Control Flow Instructions\n",
    "\n",
    "In assembly language, we have control flow instructions that determine what the next instruction should be. \n",
    "Some of the instructions are determined by the value of the flags. \n",
    "\n",
    "### Comparing values\n",
    "For example, the *cmp* instruction compares two values and sets the *zero* and *signed* flags."
   ]
  },
  {
   "cell_type": "code",
   "execution_count": null,
   "metadata": {},
   "outputs": [],
   "source": [
    "cmp ebx, 1"
   ]
  },
  {
   "cell_type": "markdown",
   "metadata": {},
   "source": [
    "The *cmp* instruction compared the value of EBX, which was 20, and the constant 1. It first substracts\n",
    "the constant from EBX. If the difference is zero, the *zero* flag is set to 1; otherwise, it is set to 0. \n",
    "Similarly, the *signed* flag is set to 1 if the difference is negative; otherwise, it is set to 0. \n",
    "\n",
    "Given that EBX - 1 is greater than zero, the *zero* and *signed* flags are set to 0."
   ]
  },
  {
   "cell_type": "code",
   "execution_count": null,
   "metadata": {},
   "outputs": [],
   "source": [
    "; An example of setting the zero flag to 1\n",
    "\n",
    "cmp ebx, 20"
   ]
  },
  {
   "cell_type": "markdown",
   "metadata": {},
   "source": [
    "### Jumping to Labels\n",
    "Other control flow instructions involve jump instructions. Jump instructions tell assembly to jump to a function if specified requirements are met.\n",
    "\n",
    "Some jump functions in assembly are: \n",
    "* jmp label\n",
    "    * Jumps to a function \n",
    "* jg label\n",
    "    * Known as: Jump if greater than\n",
    "    * Jumps to a function if both *signed* and *zero* flags are 0.\n",
    "* jne label\n",
    "    * Jump if not equal to\n",
    "    * Jumps to a function if the *zero* flag is 0.\n",
    "    \n",
    "Besides the *jmp* function, the jump instructions rely on the flag values, which implies that a *cmp* instruction should be executed prior to jumping.\n",
    "\n",
    "Below a *multiply function* is implemented. It is performing 2 * 4, which is the same as 2 + 2 + 2 + 2.\n",
    "Until EBX, which currently holds 4, is decremented to the value of 1, the value of EDX is incremented by the value of 2. "
   ]
  },
  {
   "cell_type": "code",
   "execution_count": null,
   "metadata": {},
   "outputs": [],
   "source": [
    "mov edx, 2\n",
    "mov ecx, 2\n",
    "mov ebx, 4\n",
    "\n",
    "multiply: add edx, ecx\n",
    "          dec ebx\n",
    "          cmp ebx, 1\n",
    "          jne multiply"
   ]
  },
  {
   "cell_type": "markdown",
   "metadata": {},
   "source": [
    "### Calling and Returning from a Function\n",
    "\n",
    "Similar to jumping to a label, we can also call a function. By a calling a label, we store the location in the\n",
    "program where we did a *call*. \n",
    "\n",
    "The function that is called will have a *ret* instruction to indicate that we have reached the end of the \n",
    "function and will now jump back to where *call* was last executed. \n",
    "\n",
    "In the example program, we reuse the *multiply* function. Once EBX's value is 1, we no longer loop back to the beginning of the function. Instead we return back to where *call multiply* was executed. Then, we jump to the *end* function, where the result value is stored at memory location 0."
   ]
  },
  {
   "cell_type": "code",
   "execution_count": null,
   "metadata": {},
   "outputs": [],
   "source": [
    "mov edx, 2\n",
    "mov ecx, 2\n",
    "mov ebx, 4\n",
    "call multiply\n",
    "jmp end\n",
    "\n",
    "multiply: add edx, ecx\n",
    "          dec ebx\n",
    "          cmp ebx, 1\n",
    "          jne multiply\n",
    "          ret\n",
    "          \n",
    "end: mov [0], edx"
   ]
  },
  {
   "cell_type": "markdown",
   "metadata": {},
   "source": [
    "## Interrupt Functions\n",
    "\n",
    "In assembly language, we also have interrupt functions! \n",
    "\n",
    "* int 22\n",
    "    * We pretend that we are getting a keyboard input from the user.\n",
    "* int 32\n",
    "    * Exits the current program\n",
    "    \n",
    "For both interrupts to occur, EAX must hold a value of 0."
   ]
  },
  {
   "cell_type": "markdown",
   "metadata": {},
   "source": [
    "# Raising a Number to a Power\n",
    "\n",
    "Now let's put everything together and write a program to raise a number to a power! \n",
    "\n",
    "In our example, we will raise 2 to the 16th power. Similar to our *multiply* function, raising 2<sup>4</sup> is the same as 2 * 2 * 2 * 2. \n",
    "\n",
    "We will have EBX hold our exponent value, which will decrement until it hits 1. EDX will hold our accumulative product after multiplying by 2 per function call.\n",
    "\n",
    "A *power* function will be called to execute the looping and once the function is fully executed, it will return to the *call* execution. An interrupt will be called to exit the program."
   ]
  },
  {
   "cell_type": "code",
   "execution_count": 4,
   "metadata": {},
   "outputs": [
    {
     "data": {
      "text/html": [
       "Changes: <br /><table><tr><th>Register</th><th>Register Value</th><th>Memory Location</th><th>Memory Value</th></tr><tr><td>EAX</td><td>0</td><td></td><td></td></tr><tr><td>EBX</td><td>1</td><td></td><td></td></tr><tr><td>ECX</td><td>2</td><td></td><td></td></tr><tr><td>EDX</td><td>65536</td><td></td><td></td></tr></table>"
      ]
     },
     "metadata": {},
     "output_type": "display_data"
    }
   ],
   "source": [
    "; In edx, we put the number to raise to the power we put in ebx.\n",
    "      mov edx, 2\n",
    "      mov ebx, 16\n",
    "      call power\n",
    "      mov eax, 0\n",
    "      int 32\n",
    "\n",
    "power: mov ecx, edx\n",
    "loop: imul edx, ecx\n",
    "      dec ebx\n",
    "      cmp ebx, 1\n",
    "      jne loop\n",
    "      ret"
   ]
  },
  {
   "cell_type": "markdown",
   "metadata": {},
   "source": [
    "You'll notice that register `EDX` contains the value 65536, which is indeed 2 raised to the 16th power."
   ]
  },
  {
   "cell_type": "code",
   "execution_count": null,
   "metadata": {},
   "outputs": [],
   "source": []
  }
 ],
 "metadata": {
  "kernelspec": {
   "display_name": "Intel",
   "language": "",
   "name": "intel"
  },
  "language_info": {
   "file_extension": "x86",
   "mimetype": "intel",
   "name": "intel"
  }
 },
 "nbformat": 4,
 "nbformat_minor": 2
}
