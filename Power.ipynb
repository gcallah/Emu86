{
 "cells": [
  {
   "cell_type": "markdown",
   "metadata": {},
   "source": [
    "# Storing values into a register\n",
    "\n",
    "Registers can store constants, memory, and values from another register. In the cell below, the value 2 is being stored in register EDX and the value 16 is being stored in register EBX."
   ]
  },
  {
   "cell_type": "code",
   "execution_count": 1,
   "metadata": {},
   "outputs": [
    {
     "data": {
      "text/html": [
       "Changes: <br /><table><tr><th>Type</th><th>Identifier</th><th>Value</th><tr><td>Register</td><td>EBX</td>\n",
       "            <td>16</td></tr><tr><td>Register</td><td>EDX</td>\n",
       "            <td>2</td></tr></table>"
      ]
     },
     "metadata": {},
     "output_type": "display_data"
    }
   ],
   "source": [
    "; In edx, we put the number to raise to the power we put in ebx.\n",
    "mov edx, 2\n",
    "mov ebx, 16"
   ]
  },
  {
   "cell_type": "markdown",
   "metadata": {},
   "source": [
    "# Creating Functions \n",
    "\n",
    "To create a function in assembly, state a function name and write a sequence of assembly code. The function name represents as a locator to jump back to.\n",
    "\n",
    "Below, the power and loop functions are implemented.\n",
    "\n",
    "After power is called, loop will occur right after power because in assembly, instructions are performed in seqeuential order."
   ]
  },
  {
   "cell_type": "code",
   "execution_count": 2,
   "metadata": {},
   "outputs": [
    {
     "name": "error_msg",
     "output_type": "stream",
     "text": [
      "Invalid argument: #jne"
     ]
    }
   ],
   "source": [
    "power: mov ecx, edx\n",
    "\n",
    "loop: imul edx, ecx\n",
    "      dec ebx\n",
    "      cmp ebx, 1\n",
    "      #jne loop\n",
    "      ret"
   ]
  },
  {
   "cell_type": "markdown",
   "metadata": {},
   "source": [
    "# Arithmetic Instructions\n",
    "\n",
    "In assembly, we have a set of arithmetic instructions, such as ADD, SUB, etc...\n",
    "In the loop function, we have as the first two steps: "
   ]
  },
  {
   "cell_type": "code",
   "execution_count": 3,
   "metadata": {},
   "outputs": [
    {
     "data": {
      "text/html": [
       "Changes: <br /><table><tr><th>Type</th><th>Identifier</th><th>Value</th><tr><td>Register</td><td>EBX</td>\n",
       "            <td>15</td></tr><tr><td>Register</td><td>ECX</td>\n",
       "            <td>0</td></tr></table>"
      ]
     },
     "metadata": {},
     "output_type": "display_data"
    }
   ],
   "source": [
    "imul ecx, edx\n",
    "dec ebx"
   ]
  },
  {
   "cell_type": "markdown",
   "metadata": {},
   "source": [
    "The product of the values in ECX and EDX is being stored in ECX. \n",
    "The value of EBX is decremented by 1."
   ]
  },
  {
   "cell_type": "markdown",
   "metadata": {},
   "source": [
    "# Control Flow Instructions\n",
    "\n",
    "Continuing on in the loop function, we compare EBX and 1. This sets the zero flag and signed flag in assembly.\n",
    "It first subtracts 1 from EBX, and if the difference is zero, the zero flag is set to 1.\n",
    "Otherwise, the signed flag is set depending on if the difference is positive or negative\n",
    "\n",
    "We also see a jump instruction: jne.\n",
    "JNE (jump if not equal) checks to see if the zero flag is 1. If not, it jumps back to where the loop function\n",
    "start and runs the loop again! "
   ]
  },
  {
   "cell_type": "code",
   "execution_count": 5,
   "metadata": {},
   "outputs": [
    {
     "name": "error_msg",
     "output_type": "stream",
     "text": [
      "Possible infinite loop detected: instructions run has exceeded 1000"
     ]
    }
   ],
   "source": [
    "cmp ebx, 1\n",
    "jne loop"
   ]
  },
  {
   "cell_type": "markdown",
   "metadata": {},
   "source": [
    "We also see a RET instruction. This is used if CALL instruction is performed. \n",
    "\n",
    "Example:\n",
    "    call power\n",
    "    ...\n",
    "    \n",
    "power: ...\n",
    "loop: ...\n",
    "      ret \n",
    "      \n",
    "CALL remembers where we jumped to the function power from. Once we hit the RET instruction, we go back\n",
    "to where CALL was called and continue from there. "
   ]
  },
  {
   "cell_type": "markdown",
   "metadata": {},
   "source": [
    "Now let's put it all together!"
   ]
  },
  {
   "cell_type": "code",
   "execution_count": 6,
   "metadata": {},
   "outputs": [
    {
     "data": {
      "text/html": [
       "Changes: <br /><table><tr><th>Type</th><th>Identifier</th><th>Value</th><tr><td>Register</td><td>EAX</td>\n",
       "            <td>0</td></tr><tr><td>Register</td><td>EBX</td>\n",
       "            <td>1</td></tr><tr><td>Register</td><td>ECX</td>\n",
       "            <td>2</td></tr><tr><td>Register</td><td>EDX</td>\n",
       "            <td>65536</td></tr></table>"
      ]
     },
     "metadata": {},
     "output_type": "display_data"
    }
   ],
   "source": [
    "; In edx, we put the number to raise to the power we put in ebx.\n",
    "      mov edx, 2\n",
    "      mov ebx, 16\n",
    "      call power\n",
    "      mov eax, 0\n",
    "      int 32\n",
    "\n",
    "power: mov ecx, edx\n",
    "loop: imul edx, ecx\n",
    "      dec ebx\n",
    "      cmp ebx, 1\n",
    "      jne loop\n",
    "      ret"
   ]
  },
  {
   "cell_type": "code",
   "execution_count": null,
   "metadata": {},
   "outputs": [],
   "source": []
  }
 ],
 "metadata": {
  "kernelspec": {
   "display_name": "Intel",
   "language": "",
   "name": "intel"
  },
  "language_info": {
   "file_extension": "x86",
   "mimetype": "intel",
   "name": "intel"
  }
 },
 "nbformat": 4,
 "nbformat_minor": 2
}
